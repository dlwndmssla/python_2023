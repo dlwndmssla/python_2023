#a,b = map(int, input().split()

a = int(input())


if a >= 90 :
    print('A')
elif a >= 80 :
    print('B')
elif a >= 70 :
    print('C')
elif a >= 60 :
    print('D')
else:
    print('E')
    
A = int(input())

if A/4 = int(A/4) AND A/100 =! int(A/100) AND A/400 =! int(A/400):
    print("1")
else:
    print("0")
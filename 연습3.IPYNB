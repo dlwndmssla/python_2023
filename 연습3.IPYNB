{
 "cells": [
  {
   "cell_type": "code",
   "execution_count": 11,
   "metadata": {},
   "outputs": [
    {
     "name": "stdout",
     "output_type": "stream",
     "text": [
      "528\n"
     ]
    }
   ],
   "source": [
    "T = int(input())\n",
    "\n",
    "A = list(map(int, input().split()))\n",
    "B = list(map(int, input().split()))\n",
    "\n",
    "A.sort()\n",
    "B.sort()\n",
    "\n",
    "sum = 0\n",
    "\n",
    "for i in range(T):\n",
    "    sum += A[i]*B[T-1-i]\n",
    "    \n",
    "print(sum)"
   ]
  },
  {
   "cell_type": "code",
   "execution_count": 39,
   "metadata": {},
   "outputs": [
    {
     "name": "stdout",
     "output_type": "stream",
     "text": [
      "9\n"
     ]
    }
   ],
   "source": [
    "N,M = map(int, input().split())\n",
    "\n",
    "mini = min(N,M)\n",
    "exam = []\n",
    "\n",
    "for i in range(N):\n",
    "    list1 = list(map(str, input().split()))\n",
    "    exam.append(list1)\n",
    "k = 1\n",
    "sum = []\n",
    "\n",
    "if mini != 1:\n",
    "\n",
    "    while k < mini :\n",
    "        for i in range(N - k):\n",
    "            \n",
    "            for j in range(M -k):\n",
    "\n",
    "                if int(exam[i][0][j]) == int(exam[i][0][j+k]) == int(exam[i+k][0][j]) == int(exam[i+k][0][j+k]):\n",
    "                    sum.append(k)\n",
    "        \n",
    "        k += 1\n",
    "        \n",
    "    if len(sum) == 0:\n",
    "        print(1)\n",
    "    else:\n",
    "        print(pow((max(sum)+1),2))\n",
    "\n",
    "else:\n",
    "    print(1)"
   ]
  },
  {
   "cell_type": "code",
   "execution_count": 19,
   "metadata": {},
   "outputs": [
    {
     "name": "stdout",
     "output_type": "stream",
     "text": [
      "100000\n"
     ]
    }
   ],
   "source": [
    "A,B,V = map(int, input().split())\n",
    "\n",
    "c = int((V-A)/(A-B)) \n",
    "\n",
    "if c ==  (V-A)/(A-B):\n",
    "    print(c +1)\n",
    "    \n",
    "else:\n",
    "    print(c +2 )"
   ]
  },
  {
   "cell_type": "code",
   "execution_count": 23,
   "metadata": {},
   "outputs": [
    {
     "name": "stdout",
     "output_type": "stream",
     "text": [
      "1\n"
     ]
    }
   ],
   "source": [
    "c,b = map(int, input().split())\n",
    "exam = [0]\n",
    "a = 1\n",
    "for i in range(1,b+1 ):\n",
    "    exam.append(a)\n",
    "    a = a+ exam[i-1]\n",
    "sum = 0\n",
    "for j in range(c, b+1):\n",
    "    sum += exam[j]\n",
    "print(sum)"
   ]
  },
  {
   "cell_type": "code",
   "execution_count": 56,
   "metadata": {},
   "outputs": [
    {
     "name": "stdout",
     "output_type": "stream",
     "text": [
      "40\n",
      "210\n",
      "177\n"
     ]
    }
   ],
   "source": [
    "t = int(input())\n",
    "for i in range(t):\n",
    "    a,b = map(int, input().split())\n",
    "    exam = [a]\n",
    "    for i in range(2, int(a/2)+1):\n",
    "        if a%i == 0:\n",
    "            exam.append(i)\n",
    "    exam1 = [1]\n",
    "    for j in range(len(exam)):\n",
    "        if b%exam[j] == 0:\n",
    "            exam1.append(exam[j]) \n",
    "    c = max(exam1)\n",
    "    print(int(a*b/c))    "
   ]
  },
  {
   "cell_type": "code",
   "execution_count": null,
   "metadata": {},
   "outputs": [],
   "source": [
    "#a,b,c,d,r을 구하고 a-c, b-d를 구한다"
   ]
  },
  {
   "cell_type": "code",
   "execution_count": 113,
   "metadata": {},
   "outputs": [
    {
     "name": "stdout",
     "output_type": "stream",
     "text": [
      "3\n"
     ]
    }
   ],
   "source": [
    "N = int(input())\n",
    "exam = list(map(int, input().split()))\n",
    "exam.sort()\n",
    "M = max(exam)\n",
    "sum = 0   \n",
    "for i in exam:\n",
    "    exam1 = []\n",
    "    if i == 2:\n",
    "        sum += 1\n",
    "    elif i >2 and i%2 !=0:\n",
    "        for j in range(3, int(i/2)+1):\n",
    "            if i != j and i%j == 0:\n",
    "                exam1.append(j)\n",
    "        if len(exam1) == 0:\n",
    "            sum += 1\n",
    "print(sum)\n"
   ]
  },
  {
   "cell_type": "code",
   "execution_count": 121,
   "metadata": {},
   "outputs": [
    {
     "name": "stdout",
     "output_type": "stream",
     "text": [
      "aaasssddd\n",
      "\\\\\\\\\\/////\n"
     ]
    }
   ],
   "source": [
    "T = int(input())\n",
    "for i in range(T):\n",
    "    a,b = map(str,input().split())\n",
    "    a = int(a)\n",
    "    b = list(b)\n",
    "    c = str()\n",
    "    for j in range(len(b)):\n",
    "        c += str(b[j]*a)\n",
    "    print(c)"
   ]
  },
  {
   "cell_type": "code",
   "execution_count": 146,
   "metadata": {},
   "outputs": [
    {
     "name": "stdout",
     "output_type": "stream",
     "text": [
      "mixed\n"
     ]
    }
   ],
   "source": [
    "exam = list(map(int, input().split()))\n",
    "list1 = 0\n",
    "for i in range(8):\n",
    "    if exam[i] == i+1:\n",
    "        list1 +=1\n",
    "    elif exam[i] == 8-i:\n",
    "        list1 +=2\n",
    "    else:\n",
    "        list1 +=0     \n",
    "if list1 == 8:\n",
    "    print(\"ascending\")\n",
    "elif list1 == 16:\n",
    "    print(\"descending\")\n",
    "else:\n",
    "    print(\"mixed\")    \n",
    "\n",
    "    "
   ]
  },
  {
   "cell_type": "code",
   "execution_count": 204,
   "metadata": {},
   "outputs": [
    {
     "name": "stdout",
     "output_type": "stream",
     "text": [
      "59\n"
     ]
    }
   ],
   "source": [
    "n = int(input())\n",
    "i = 2\n",
    "if n == 1:\n",
    "        print(1)\n",
    "\n",
    "while n != 1:\n",
    "    if n%i == 0:\n",
    "        n = n/i\n",
    "        print(i)\n",
    "    else:\n",
    "        i +=1\n"
   ]
  },
  {
   "cell_type": "code",
   "execution_count": 36,
   "metadata": {},
   "outputs": [
    {
     "name": "stdout",
     "output_type": "stream",
     "text": [
      "65\n"
     ]
    }
   ],
   "source": [
    "from string import ascii_lowercase\n",
    "exam = list(ascii_lowercase)\n",
    "\n",
    "m = input()\n",
    "\n",
    "if m.isnumeric() == True:\n",
    "    print(48+int(m))\n",
    "elif m.isupper() == True:\n",
    "\n",
    "    for i in range(len(exam)):\n",
    "        if exam[i] == str(m.lower()):\n",
    "            print(i + 65)\n",
    "else:\n",
    "    for i in range(len(exam)):\n",
    "        if exam[i] == str(m):\n",
    "            print(i + 97)"
   ]
  },
  {
   "cell_type": "code",
   "execution_count": 72,
   "metadata": {},
   "outputs": [
    {
     "name": "stdout",
     "output_type": "stream",
     "text": [
      "-1 -1 -1 -1 3 4 2 1 -1 -1 -1 -1 -1 -1 -1 -1 -1 -1 0 -1 -1 -1 -1 -1 -1 -1 -1 -1\n"
     ]
    }
   ],
   "source": [
    "from string import ascii_lowercase\n",
    "alpha = list(ascii_lowercase)\n",
    "m = list(input())\n",
    "exam = []\n",
    "for i in range(28):\n",
    "    exam.append(-1)\n",
    "    \n",
    "for i in range(len(m)):\n",
    "    k = alpha.index(m[i])\n",
    "    if int(exam[k]) == -1:\n",
    "        exam[k] = i  \n",
    "print(*exam)         "
   ]
  },
  {
   "cell_type": "code",
   "execution_count": 99,
   "metadata": {},
   "outputs": [
    {
     "name": "stdout",
     "output_type": "stream",
     "text": [
      "3\n"
     ]
    }
   ],
   "source": [
    "m = int(input())\n",
    "n = int(m/5)\n",
    "exam = []\n",
    "for i in range(n+1):\n",
    "    k = m - 5*i\n",
    "    h = k/3\n",
    "    if h == int(h):\n",
    "        exam.append(i+h)\n",
    "if len(exam) != 0:\n",
    "    print(int(min(exam)))\n",
    "else:\n",
    "    print(-1)"
   ]
  },
  {
   "cell_type": "code",
   "execution_count": 80,
   "metadata": {},
   "outputs": [
    {
     "name": "stdout",
     "output_type": "stream",
     "text": [
      "1\n",
      "221\n"
     ]
    }
   ],
   "source": [
    "a,b = map(int, input().split())\n",
    "lista = [a]\n",
    "for i in range(2, int(a/2)+2):\n",
    "    if a%i == 0:\n",
    "        lista.append(i)\n",
    "listb = [b]\n",
    "for i in range(2, int(b/2)+2):\n",
    "    if b%i == 0:\n",
    "        listb.append(i)\n",
    "listc = []\n",
    "for i in range(len(lista)):\n",
    "    for j in range(len(listb)):\n",
    "        if lista[i] == listb[j]:\n",
    "            listc.append(lista[i])\n",
    "if len(listc) != 0:  \n",
    "    c = max(listc)\n",
    "    print(c)\n",
    "    print(int(a*b/c))\n",
    "else:\n",
    "    print(1)\n",
    "    print(a*b)"
   ]
  },
  {
   "cell_type": "code",
   "execution_count": 154,
   "metadata": {},
   "outputs": [
    {
     "name": "stdout",
     "output_type": "stream",
     "text": [
      "32\n"
     ]
    }
   ],
   "source": [
    "T = int(input())\n",
    "exam = list(map(int, input().split()))\n",
    "exam.sort()\n",
    "sum= 0 \n",
    "exam2 = []\n",
    "for i in range(T):\n",
    "    sum += exam[i]\n",
    "    exam2.append(sum)\n",
    "sum2 = 0\n",
    "for i in range(T):\n",
    "    sum2 += exam2[i]\n",
    "    \n",
    "print(sum2)"
   ]
  },
  {
   "cell_type": "code",
   "execution_count": 156,
   "metadata": {},
   "outputs": [
    {
     "name": "stdout",
     "output_type": "stream",
     "text": [
      "4\n",
      "8\n",
      "15\n",
      "48\n",
      "56\n"
     ]
    }
   ],
   "source": [
    "N = int(input())\n",
    "exam = []\n",
    "for i in range(N):\n",
    "    a = int(input())\n",
    "    exam.append(a)\n",
    "exam.sort()\n",
    "for i in range(N):\n",
    "    print(exam[i])"
   ]
  },
  {
   "cell_type": "code",
   "execution_count": 11,
   "metadata": {},
   "outputs": [
    {
     "name": "stdout",
     "output_type": "stream",
     "text": [
      "44\n"
     ]
    }
   ],
   "source": [
    "M = list(input())\n",
    "a = 0\n",
    "\n",
    "for i in range(len(M)):\n",
    "    a += int(M[i])*pow(2,len(M) -i -1)\n",
    "\n",
    "c = str()\n",
    "for i in range(len(M)):\n",
    "    c += str(a%8)\n",
    "    a = int(a/8) \n",
    "    \n",
    "c+= str(a%8)\n",
    "\n",
    "b = str()\n",
    "\n",
    "for i in range(len(c)-1,-1, -1):\n",
    "    b += c[i]\n",
    "    \n",
    "print(int(b))"
   ]
  },
  {
   "cell_type": "code",
   "execution_count": 19,
   "metadata": {},
   "outputs": [
    {
     "name": "stdout",
     "output_type": "stream",
     "text": [
      "1\n"
     ]
    }
   ],
   "source": [
    "a = list(map(int, input().split()))\n",
    "a.sort()\n",
    "\n",
    "print(a[1])\n"
   ]
  },
  {
   "cell_type": "code",
   "execution_count": 21,
   "metadata": {},
   "outputs": [
    {
     "name": "stdout",
     "output_type": "stream",
     "text": [
      "1\n",
      "1\n",
      "2\n",
      "2\n",
      "3\n",
      "3\n",
      "4\n",
      "5\n",
      "5\n",
      "7\n"
     ]
    }
   ],
   "source": [
    "N = int(input())\n",
    "a = []\n",
    "for i in range(N):\n",
    "    a.append(int(input()))\n",
    "    \n",
    "a.sort()\n",
    "\n",
    "for i in range(N):\n",
    "    print(a[i])"
   ]
  },
  {
   "cell_type": "code",
   "execution_count": null,
   "metadata": {},
   "outputs": [],
   "source": []
  },
  {
   "cell_type": "code",
   "execution_count": 48,
   "metadata": {},
   "outputs": [
    {
     "name": "stdout",
     "output_type": "stream",
     "text": [
      "3.0 4.5\n",
      "13.5\n",
      "3.0 4.5\n",
      "13.5\n",
      "3.0 4.0\n",
      "12.0\n",
      "4.333333333333333\n"
     ]
    }
   ],
   "source": [
    "a = []\n",
    "b = [\"A+\",\"A0\",\"B+\",\"B0\",\"C+\",\"C0\",\"D+\",\"D0\",\"F\"]\n",
    "c = [4.5,4.0,3.5,3.0,2.5,2.0,1.5,1.0,0.0]\n",
    "c_sum = 0 \n",
    "d_sum = 0\n",
    "for i in range(3):\n",
    "    a = list(input().split())\n",
    "    \n",
    "    for i in range(9):\n",
    "        \n",
    "        if b[i] == a[2]:\n",
    "            a[2] = c[i]\n",
    "\n",
    "    c_sum += float(a[1])*float(a[2])\n",
    "    d_sum += float(a[1])\n",
    "    \n",
    "print(c_sum/d_sum)"
   ]
  },
  {
   "cell_type": "code",
   "execution_count": 58,
   "metadata": {},
   "outputs": [
    {
     "name": "stdout",
     "output_type": "stream",
     "text": [
      "3\n",
      "7\n"
     ]
    }
   ],
   "source": [
    "N,M,K = map(int, input().split())\n",
    "exam = []\n",
    "\n",
    "for i in range(N):\n",
    "    exam.append(int(input()))\n",
    "\n",
    "for i in range(M+K):\n",
    "    a,b,c = map(int, input().split())\n",
    "    \n",
    "    if a == 1:\n",
    "        exam[b-1] = int(c)\n",
    "    else:\n",
    "        print(sum(exam[b-1:c]))"
   ]
  },
  {
   "cell_type": "code",
   "execution_count": 98,
   "metadata": {},
   "outputs": [
    {
     "name": "stdout",
     "output_type": "stream",
     "text": [
      "5\n",
      "55\n",
      "5\n",
      "50\n",
      "4\n",
      "40\n",
      "3\n"
     ]
    },
    {
     "ename": "TypeError",
     "evalue": "'int' object is not callable",
     "output_type": "error",
     "traceback": [
      "\u001b[1;31m---------------------------------------------------------------------------\u001b[0m",
      "\u001b[1;31mTypeError\u001b[0m                                 Traceback (most recent call last)",
      "\u001b[1;32m~\\AppData\\Local\\Temp\\ipykernel_33200\\3621831795.py\u001b[0m in \u001b[0;36m<module>\u001b[1;34m\u001b[0m\n\u001b[0;32m     13\u001b[0m \u001b[0mc\u001b[0m\u001b[1;33m.\u001b[0m\u001b[0mappend\u001b[0m\u001b[1;33m(\u001b[0m\u001b[0mint\u001b[0m\u001b[1;33m(\u001b[0m\u001b[0mb\u001b[0m\u001b[1;33m)\u001b[0m\u001b[1;33m)\u001b[0m\u001b[1;33m\u001b[0m\u001b[1;33m\u001b[0m\u001b[0m\n\u001b[0;32m     14\u001b[0m \u001b[0mprint\u001b[0m\u001b[1;33m(\u001b[0m\u001b[0mlen\u001b[0m\u001b[1;33m(\u001b[0m\u001b[0mc\u001b[0m\u001b[1;33m)\u001b[0m\u001b[1;33m)\u001b[0m\u001b[1;33m\u001b[0m\u001b[1;33m\u001b[0m\u001b[0m\n\u001b[1;32m---> 15\u001b[1;33m \u001b[0mexam\u001b[0m \u001b[1;33m=\u001b[0m \u001b[0msum\u001b[0m\u001b[1;33m(\u001b[0m\u001b[0mc\u001b[0m\u001b[1;33m[\u001b[0m\u001b[1;36m1\u001b[0m\u001b[1;33m:\u001b[0m\u001b[1;33m]\u001b[0m\u001b[1;33m)\u001b[0m\u001b[1;33m\u001b[0m\u001b[1;33m\u001b[0m\u001b[0m\n\u001b[0m\u001b[0;32m     16\u001b[0m \u001b[0mprint\u001b[0m\u001b[1;33m(\u001b[0m\u001b[0mexam\u001b[0m\u001b[1;33m)\u001b[0m\u001b[1;33m\u001b[0m\u001b[1;33m\u001b[0m\u001b[0m\n",
      "\u001b[1;31mTypeError\u001b[0m: 'int' object is not callable"
     ]
    }
   ],
   "source": [
    "a = str(input().split())\n",
    "b = str()\n",
    "c = []\n",
    "for i in range(2,len(a)-2):\n",
    "    \n",
    "    if a[i] != \"+\" and a[i] != \"-\":\n",
    "        b += a[i]\n",
    "        print(b)\n",
    "    else:\n",
    "        c.append(int(b))\n",
    "        b = str()\n",
    "        \n",
    "c.append(int(b))        \n",
    "print(len(c))\n",
    "exam = sum(c[1:])\n",
    "print(exam)"
   ]
  },
  {
   "cell_type": "code",
   "execution_count": 99,
   "metadata": {},
   "outputs": [
    {
     "data": {
      "text/plain": [
       "55"
      ]
     },
     "execution_count": 99,
     "metadata": {},
     "output_type": "execute_result"
    }
   ],
   "source": [
    "sum"
   ]
  }
 ],
 "metadata": {
  "kernelspec": {
   "display_name": "base",
   "language": "python",
   "name": "python3"
  },
  "language_info": {
   "codemirror_mode": {
    "name": "ipython",
    "version": 3
   },
   "file_extension": ".py",
   "mimetype": "text/x-python",
   "name": "python",
   "nbconvert_exporter": "python",
   "pygments_lexer": "ipython3",
   "version": "3.9.15"
  },
  "orig_nbformat": 4,
  "vscode": {
   "interpreter": {
    "hash": "a077222d77dfe082b8f1dd562ad70e458ac2ab76993a0b248ab0476e32e9e8dd"
   }
  }
 },
 "nbformat": 4,
 "nbformat_minor": 2
}

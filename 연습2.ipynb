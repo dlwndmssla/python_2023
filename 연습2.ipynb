{
 "cells": [
  {
   "cell_type": "code",
   "execution_count": null,
   "id": "2650dac3",
   "metadata": {},
   "outputs": [],
   "source": [
    "import numpy as np\n",
    "import pandas as pd\n",
    "\n",
    "\n",
    "########1번문제\n",
    "data = pd.read_csv(\"boston.csv\")\n",
    "\n",
    "print(data)\n",
    "\n",
    "print(data.shape)\n",
    "\n",
    "print(data.info())\n",
    "\n",
    "x = data.iloc[:,13]\n",
    "print(x)\n",
    "\n",
    "y = data.sort_values(by = 'MEDV', ascending = True)\n",
    "\n",
    "final = y.iloc[:10,13]\n",
    "\n",
    "print(final.info())\n",
    "\n",
    "print(final)\n"
   ]
  },
  {
   "cell_type": "code",
   "execution_count": null,
   "id": "7eba7389",
   "metadata": {},
   "outputs": [],
   "source": [
    "\n",
    "#####2번문제\n",
    "print(data.isnull().sum())\n",
    "\n",
    "data2 = data[\"RM\"]\n",
    "\n",
    "print(data2)\n",
    "\n",
    "print(\"################\")\n",
    "print(data2.shape)\n",
    "print(data2.info())\n",
    "print(data2.describe())\n",
    "rm_mean = 6.285102\n",
    "\n",
    "data_fill = data2.fillna(rm_mean)\n",
    "\n",
    "print(data_fill)\n",
    "\n",
    "print(data_fill.describe())\n",
    "\n",
    "print(data_fill.isnull().sum())\n",
    "\n",
    "fill_std = data_fill.std()\n",
    "\n",
    "print(fill_std )\n",
    "\n",
    "data_delete = data2.dropna()\n",
    "\n",
    "delete_std = data_delete.std()\n",
    "\n",
    "print(delete_std)\n",
    "\n",
    "print(abs(fill_std - delete_std))\n"
   ]
  },
  {
   "cell_type": "code",
   "execution_count": null,
   "id": "eba3a021",
   "metadata": {},
   "outputs": [],
   "source": [
    "\n",
    "#########3번\n",
    "\n",
    "data_3 = data[\"ZN\"]\n",
    "print(data_3.describe())\n",
    "\n",
    "data_3_std = data_3.std()\n",
    "data_3_mean = data_3.mean()\n",
    "\n",
    "\n",
    "max = 1.5*data_3_std+data_3_mean\n",
    "min = data_3_mean - 1.5*data_3_std\n",
    "\n",
    "max_sum = data_3[ data_3[:] > max].sum()\n",
    "\n",
    "min_sum = data_3[ data_3[:]  < min].sum()\n",
    "\n",
    "data3 = max_sum + min_sum\n",
    "\n",
    "print(data_3[ data_3[:] > max])\n",
    "\n",
    "\n",
    "\n",
    "print(max_sum)\n",
    "print(min_sum)\n",
    "\n",
    "print(data3)\n",
    "\n"
   ]
  },
  {
   "cell_type": "code",
   "execution_count": null,
   "id": "1285151c",
   "metadata": {},
   "outputs": [],
   "source": [
    "#########4번 \n",
    "\n",
    "data_4 = data."
   ]
  }
 ],
 "metadata": {
  "kernelspec": {
   "display_name": "base",
   "language": "python",
   "name": "python3"
  },
  "language_info": {
   "codemirror_mode": {
    "name": "ipython",
    "version": 3
   },
   "file_extension": ".py",
   "mimetype": "text/x-python",
   "name": "python",
   "nbconvert_exporter": "python",
   "pygments_lexer": "ipython3",
   "version": "3.9.15"
  },
  "vscode": {
   "interpreter": {
    "hash": "a077222d77dfe082b8f1dd562ad70e458ac2ab76993a0b248ab0476e32e9e8dd"
   }
  }
 },
 "nbformat": 4,
 "nbformat_minor": 5
}

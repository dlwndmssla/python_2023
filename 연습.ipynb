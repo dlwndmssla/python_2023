{
 "cells": [
  {
   "cell_type": "code",
   "execution_count": null,
   "metadata": {},
   "outputs": [],
   "source": [
    "A = int(1901)\n",
    "    \n"
   ]
  },
  {
   "cell_type": "code",
   "execution_count": null,
   "metadata": {},
   "outputs": [],
   "source": [
    "print(A/4)\n",
    "print(int(A/4))\n",
    "print(A/4 == int(A/4))"
   ]
  },
  {
   "cell_type": "code",
   "execution_count": null,
   "metadata": {},
   "outputs": [],
   "source": [
    "1 != 1"
   ]
  },
  {
   "cell_type": "code",
   "execution_count": null,
   "metadata": {},
   "outputs": [],
   "source": [
    "A = int(input())\n",
    "\n",
    "if A/4 == int(A/4):\n",
    "    if A/100 == int(A/100):\n",
    "        if A/400 == int(A/400):\n",
    "            print(\"1\")\n",
    "            break\n",
    "        print(\"0\")\n",
    "    print(\"1\")  \n",
    "else:\n",
    "     print(\"0\")   \n",
    "       "
   ]
  },
  {
   "cell_type": "code",
   "execution_count": null,
   "metadata": {},
   "outputs": [],
   "source": [
    "A = int(input())\n",
    "\n",
    "if A/4 == int(A/4) and A/100 != int(A/100) and A/400 == int(A/400):\n",
    "    print(\"1\")  \n",
    "else:\n",
    "     print(\"0\")   \n",
    "       "
   ]
  },
  {
   "cell_type": "code",
   "execution_count": null,
   "metadata": {},
   "outputs": [],
   "source": [
    "A = int(input())\n",
    "\n",
    "if A/400 == int(A/400) :\n",
    "    print(\"1\")\n",
    "elif A/100 == int(A/100) :\n",
    "    print(\"0\")\n",
    "elif A/4 == int(A/4) :\n",
    "    print(\"1\") \n",
    "else:\n",
    "    print(\"0\")       "
   ]
  },
  {
   "cell_type": "code",
   "execution_count": null,
   "metadata": {},
   "outputs": [],
   "source": [
    "a = int(input())\n",
    "b = int(input())\n",
    "\n",
    "if a > 0 and b > 0 :\n",
    "    print(\"1\")\n",
    "elif a > 0 and b < 0 :\n",
    "    print(\"4\")\n",
    "elif a < 0  and b > 0 :\n",
    "    print(\"3\")\n",
    "else:\n",
    "    print(\"1\") "
   ]
  },
  {
   "cell_type": "code",
   "execution_count": null,
   "metadata": {},
   "outputs": [],
   "source": [
    "H,M = map(int, input().split())\n",
    "\n",
    "if M >= 45:\n",
    "    M = M -45\n",
    "elif M <= 45 and H !=0:\n",
    "    M = M -45 + 60\n",
    "    H = H - 1\n",
    "else:\n",
    "    M = M -45 + 60\n",
    "    H = 23\n",
    "print(H, M)"
   ]
  },
  {
   "cell_type": "code",
   "execution_count": null,
   "metadata": {},
   "outputs": [],
   "source": [
    "A,B = map(int, input().split())\n",
    "C = int(input())\n",
    "D = B+ C\n",
    "if D >= 60:\n",
    "    A = A + int((D)/60)\n",
    "    D = D%60\n",
    "    if A >= 24:\n",
    "        A = A - 24\n",
    "    \n",
    "print(A,D)"
   ]
  },
  {
   "cell_type": "code",
   "execution_count": null,
   "metadata": {},
   "outputs": [],
   "source": [
    "a,b,c = map(int, input().split())\n",
    "\n",
    "if a==b==c:\n",
    "    print(10000 + a*1000)\n",
    "elif a ==b or a ==c or b== c:\n",
    "    if a==b or a==c:\n",
    "        print(1000 + a*100)\n",
    "    elif b == c:\n",
    "        print(1000 + b*100)\n",
    "else:\n",
    "    print(100*max(a,b,c))\n",
    "    "
   ]
  },
  {
   "cell_type": "code",
   "execution_count": null,
   "metadata": {},
   "outputs": [],
   "source": [
    "A,B,C = map(int, input().split())\n",
    "d = (A+B)%C \n",
    "e = ((A%C) + (B%C))%C\n",
    "f = (A*B)%C\n",
    "g = ((A%C) * (B%C))%C\n",
    "print(d )\n",
    "print(e )\n",
    "print( f )\n",
    "print( g )"
   ]
  },
  {
   "cell_type": "code",
   "execution_count": null,
   "metadata": {},
   "outputs": [],
   "source": [
    "N = int(input())\n",
    "\n",
    "for i in range(1,10):\n",
    "    print(N,\"*\",i,\"=\",N*i)"
   ]
  },
  {
   "cell_type": "code",
   "execution_count": null,
   "metadata": {},
   "outputs": [],
   "source": [
    "T = int(input())\n",
    "\n",
    "for i in range(0,T):\n",
    "    a,b = map(int, input().split())\n",
    "    print(a+b)"
   ]
  },
  {
   "cell_type": "code",
   "execution_count": null,
   "metadata": {},
   "outputs": [],
   "source": [
    "n = int(input())\n",
    "N = 0\n",
    "\n",
    "for i in range(0,n+1):\n",
    "    N += i \n",
    "print(N)"
   ]
  },
  {
   "cell_type": "code",
   "execution_count": null,
   "metadata": {},
   "outputs": [],
   "source": [
    "X = int(input())\n",
    "N = int(input())+1\n",
    "\n",
    "price = 0\n",
    "\n",
    "for i in range(1,N):\n",
    "    a,b = map(int, input().split())\n",
    "    price = price + a*b\n",
    "\n",
    "if X == price:\n",
    "    print(\"Yes\")\n",
    "else:\n",
    "    print(\"No\")"
   ]
  },
  {
   "cell_type": "code",
   "execution_count": null,
   "metadata": {},
   "outputs": [],
   "source": [
    "T = int(readline())\n",
    "\n",
    "for i in range(1,T+1):\n",
    "    a,b = map(int, input().split())\n",
    "    print(a+b)"
   ]
  },
  {
   "cell_type": "code",
   "execution_count": null,
   "metadata": {},
   "outputs": [],
   "source": [
    "T = int(input())\n",
    "\n",
    "for i in range(1,T+1):\n",
    "    a,b = map(int, input().split())\n",
    "    k = \"Case #\" + str(i) +\":\"\n",
    "    print(k,a+b)"
   ]
  },
  {
   "cell_type": "code",
   "execution_count": null,
   "metadata": {},
   "outputs": [],
   "source": [
    "T = int(input())\n",
    "\n",
    "for i in range(1,T+1):\n",
    "    a,b = map(int, input().split())\n",
    "    k = \"Case #\" + str(i) +\": \"+str(a)+\" + \"+str(b)+\" = \"+str(a+b)\n",
    "    print(k)"
   ]
  },
  {
   "cell_type": "code",
   "execution_count": null,
   "metadata": {},
   "outputs": [],
   "source": [
    "N = int(input())\n",
    "\n",
    "for i in range(1, N+1):\n",
    "    print(i*\"*\")"
   ]
  },
  {
   "cell_type": "code",
   "execution_count": null,
   "metadata": {},
   "outputs": [],
   "source": [
    "N = int(input())\n",
    "\n",
    "for i in range(1, N+1):\n",
    "    k = i*\"*\"\n",
    "    print(k.rjust(N))"
   ]
  },
  {
   "cell_type": "code",
   "execution_count": null,
   "metadata": {},
   "outputs": [],
   "source": [
    "a = 1\n",
    "b = 2\n",
    "a,b = map(int, input().split())\n",
    "\n",
    "while a !=0 or b != 0:\n",
    "    print(a+b)\n",
    "    a,b = map(int, input().split())\n",
    "\n",
    "    "
   ]
  },
  {
   "cell_type": "code",
   "execution_count": null,
   "metadata": {},
   "outputs": [],
   "source": [
    "a = 1\n",
    "b = 2\n",
    "a,b = map(int, input().split())\n",
    "\n",
    "while a !=0 or b != 0:\n",
    "    try:\n",
    "        print(a+b)\n",
    "        a,b = map(int, input().split())\n",
    "    except EOFError:\n",
    "        break"
   ]
  },
  {
   "cell_type": "code",
   "execution_count": null,
   "metadata": {},
   "outputs": [],
   "source": [
    "a,b,c,d,e,f = map(int, input().split())\n",
    "\n",
    "print(-1*(a-1),-1*(b-1),-1*(c-2),-1*(d-2),-1*(e-2),-1*(f-8))"
   ]
  },
  {
   "cell_type": "code",
   "execution_count": null,
   "metadata": {},
   "outputs": [],
   "source": [
    "N = int(input())\n",
    "i = 0\n",
    "k = N\n",
    "while True:\n",
    "    a = int(N/10)\n",
    "    b = N%10 \n",
    "    c = (a+b)%10\n",
    "    N = b*10 + c\n",
    "    i += 1\n",
    "    if N == k:\n",
    "        print(i)\n",
    "        break"
   ]
  },
  {
   "cell_type": "code",
   "execution_count": null,
   "metadata": {},
   "outputs": [],
   "source": [
    "N = int(input())\n",
    "A = list(map(int, input().split()))\n",
    "V =  int(input())\n",
    "sum = 0\n",
    "\n",
    "for i in range(N):\n",
    "    if A[i] == V:\n",
    "        sum += 1\n",
    "        \n",
    "print(sum)\n"
   ]
  },
  {
   "cell_type": "code",
   "execution_count": null,
   "metadata": {},
   "outputs": [],
   "source": [
    "N, X = map(int, input().split())\n",
    "A = list(map(int, input().split()))\n",
    "\n",
    "B = list()\n",
    "k = str()\n",
    "\n",
    "for i in range(N):\n",
    "    if A[i] < X:\n",
    "        B.append(A[i])\n",
    "        k = k+str(A[i])\n",
    "        \n",
    "print(map(B))\n"
   ]
  },
  {
   "cell_type": "code",
   "execution_count": null,
   "metadata": {},
   "outputs": [],
   "source": [
    "N, X = map(int, input().split())\n",
    "A = list(map(int, input().split()))\n",
    "\n",
    "B = list()\n",
    "k = str()\n",
    "\n",
    "for i in range(N):\n",
    "    if A[i] < X:\n",
    "        B.append(A[i])\n",
    "print(*B)\n"
   ]
  },
  {
   "cell_type": "code",
   "execution_count": null,
   "metadata": {},
   "outputs": [],
   "source": [
    "T = int(input())\n",
    "A = list(map(int, input().split()))\n",
    "\n",
    "min = A[0]\n",
    "max = A[0]\n",
    "\n",
    "for i in range(T):\n",
    "    if min >= A[i]:\n",
    "        min = A[i] \n",
    "    if max <= A[i]:\n",
    "        max = A[i]\n",
    "        \n",
    "print(min, max)"
   ]
  },
  {
   "cell_type": "code",
   "execution_count": null,
   "metadata": {},
   "outputs": [],
   "source": [
    "max = 0\n",
    "\n",
    "for i in range(9):\n",
    "    a = int(input())\n",
    "    if a > max:\n",
    "        max = a\n",
    "        k = i+1\n",
    "    if i == 8:\n",
    "        print(max)\n",
    "        print(k)"
   ]
  },
  {
   "cell_type": "code",
   "execution_count": null,
   "metadata": {},
   "outputs": [],
   "source": [
    "stud = []\n",
    "for i in range(1,31):\n",
    "    stud.append(i)\n",
    "    \n",
    "for i in range(28):\n",
    "    a = int(input())\n",
    "    stud.remove(a)\n",
    "    \n",
    "if stud[0] > stud[1]:\n",
    "    print(stud[1])\n",
    "    print(stud[0])\n",
    "else:\n",
    "    print(stud[0])\n",
    "    print(stud[1])"
   ]
  },
  {
   "cell_type": "code",
   "execution_count": null,
   "metadata": {},
   "outputs": [],
   "source": [
    "list = []\n",
    "a = 0\n",
    "for i in range(10):\n",
    "    a = int(input())%42\n",
    "    list.append(a)\n",
    "    \n",
    "a = set(list)\n",
    "print(len(a))\n"
   ]
  },
  {
   "cell_type": "code",
   "execution_count": 115,
   "metadata": {},
   "outputs": [
    {
     "name": "stdout",
     "output_type": "stream",
     "text": [
      "55.55556\n"
     ]
    }
   ],
   "source": [
    "T = int(input())\n",
    "score = input().split()\n",
    "max_score = 0.0\n",
    "\n",
    "for i in range(T):\n",
    "    score[i] = int(score[i])\n",
    "    if max_score < score[i]:\n",
    "        max_score = score[i]\n",
    "\n",
    "sum = 0   \n",
    "for i in range(T):\n",
    "    score[i] = float(score[i]/max_score*100)\n",
    "    sum += score[i]\n",
    "    \n",
    "print(round(sum/T, 5))"
   ]
  },
  {
   "cell_type": "code",
   "execution_count": 155,
   "metadata": {},
   "outputs": [
    {
     "name": "stdout",
     "output_type": "stream",
     "text": [
      "10\n",
      "9\n",
      "7\n",
      "55\n",
      "30\n"
     ]
    }
   ],
   "source": [
    "T = int(input())\n",
    "k = 0\n",
    "score = 0\n",
    "\n",
    "for i in range(T):\n",
    "    string = input()\n",
    "    \n",
    "    k = 0\n",
    "    score = 0\n",
    "\n",
    "    for j in range(len(string)):\n",
    "        \n",
    "        if string[j] == str('X'):\n",
    "            k = 0\n",
    "        else:\n",
    "            k +=1\n",
    "        score += k\n",
    "        \n",
    "    print(score)\n",
    "                "
   ]
  },
  {
   "cell_type": "code",
   "execution_count": 258,
   "metadata": {},
   "outputs": [
    {
     "name": "stdout",
     "output_type": "stream",
     "text": [
      "40.000%\n",
      "57.143%\n",
      "33.333%\n",
      "66.667%\n",
      "55.556%\n"
     ]
    }
   ],
   "source": [
    "C = int(input())\n",
    "\n",
    "for i in range(C):\n",
    "    a = input().split()\n",
    "    sum = 0.0\n",
    "    for j in range(1,len(a)):\n",
    "        sum += int(a[j])\n",
    "    real = sum/int(a[0])\n",
    "    k = 0\n",
    "    \n",
    "    for j in range(1,len(a)):\n",
    "        if int(a[j]) > real:\n",
    "            k+=1\n",
    "        if j == len(a)-1:\n",
    "            x = (\"{:.3f}\".format(k/int(a[0])*100))+\"%\"\n",
    "            print(x)"
   ]
  },
  {
   "cell_type": "code",
   "execution_count": 271,
   "metadata": {},
   "outputs": [],
   "source": [
    "def f(a):\n",
    "    k = 0\n",
    "\n",
    "    for i in range(len(a)):\n",
    "        k += int(a[i])\n",
    "    return k"
   ]
  },
  {
   "cell_type": "code",
   "execution_count": 298,
   "metadata": {},
   "outputs": [
    {
     "name": "stdout",
     "output_type": "stream",
     "text": [
      "11\n"
     ]
    }
   ],
   "source": [
    "a,b,c = map(int, input().split())\n",
    " \n",
    "if b >= c:\n",
    "    print(-1)\n",
    "else:\n",
    "    print(int(a/(c-b))+1) "
   ]
  },
  {
   "cell_type": "code",
   "execution_count": null,
   "metadata": {},
   "outputs": [],
   "source": [
    "n = int(input())\n",
    "\n",
    "if n == 1:\n",
    "    print(1)\n",
    "elif 2 <= n <= 7 :\n",
    "    print(2)\n",
    "elif 8 <= n <= 19 :\n",
    "    print(3)\n",
    "elif 20 <= n <= 37 :\n",
    "    print(4)\n",
    "elif 38 <= n <= 66 :\n",
    "    print(5)   \n",
    "    "
   ]
  },
  {
   "cell_type": "code",
   "execution_count": 404,
   "metadata": {},
   "outputs": [
    {
     "name": "stdout",
     "output_type": "stream",
     "text": [
      "58395\n",
      "457\n"
     ]
    }
   ],
   "source": [
    "m = int(input())\n",
    "n = int(input())\n",
    "number = []\n",
    "\n",
    "for i in range(2,n+1):\n",
    "    number.append(i)\n",
    "\n",
    "for i in range(2,n+1):\n",
    "    \n",
    "    for j in range(2,n):\n",
    "        if i !=j:\n",
    "            if i%j == 0:\n",
    "                number.remove(i)\n",
    "                break\n",
    "\n",
    "exam = []\n",
    "sum = 0\n",
    "for i in range(len(number)):\n",
    "    \n",
    "    if number[i] >= m and number[i] <= n:\n",
    "        exam.append(number[i])\n",
    "        sum += number[i]\n",
    "\n",
    "if len(exam) != 0:\n",
    "    print(sum)\n",
    "    print(exam[0])\n",
    "else:\n",
    "    print(-1)"
   ]
  },
  {
   "cell_type": "code",
   "execution_count": 496,
   "metadata": {},
   "outputs": [
    {
     "name": "stdout",
     "output_type": "stream",
     "text": [
      "2\n",
      "2\n",
      "5\n",
      "5\n"
     ]
    }
   ],
   "source": [
    "m = int(input())\n",
    "i = 2\n",
    "n = int(m)\n",
    "while True:\n",
    "    \n",
    "    if n%i == 0 and n != i:\n",
    "        print(i)\n",
    "        n = n/i\n",
    "        i = 2\n",
    "\n",
    "    elif n == i :\n",
    "        print(i)\n",
    "\n",
    "        break\n",
    "    else:\n",
    "        i += 1"
   ]
  },
  {
   "cell_type": "code",
   "execution_count": 493,
   "metadata": {},
   "outputs": [],
   "source": [
    "m = int(input())\n",
    "i = 2\n",
    "n = int(m/2)+1\n",
    "while True:\n",
    "    k = i\n",
    "    if n%i == 0 and n != i:\n",
    "        print(i)\n",
    "        n = n/i\n",
    "        i = 2\n",
    "    elif n == i :\n",
    "        print(i)\n",
    "        break\n",
    "    elif i > k/2 :\n",
    "        break\n",
    "    else:\n",
    "        i += 1"
   ]
  },
  {
   "cell_type": "code",
   "execution_count": 504,
   "metadata": {},
   "outputs": [
    {
     "name": "stdout",
     "output_type": "stream",
     "text": [
      "3\n",
      "5\n",
      "7\n",
      "11\n",
      "13\n"
     ]
    }
   ],
   "source": [
    "m,n = map(int, input().split())\n",
    "number = []\n",
    "\n",
    "for i in range(2,n+1):\n",
    "    number.append(i)\n",
    "\n",
    "for i in range(2,n+1):\n",
    "    \n",
    "    for j in range(2,n):\n",
    "        if i !=j:\n",
    "            if i%j == 0:\n",
    "                number.remove(i)\n",
    "                break\n",
    "\n",
    "exam = []\n",
    "sum = 0\n",
    "for i in range(len(number)):\n",
    "    \n",
    "    if number[i] >= m and number[i] <= n:\n",
    "        print(number[i])"
   ]
  },
  {
   "cell_type": "code",
   "execution_count": 508,
   "metadata": {},
   "outputs": [
    {
     "name": "stdout",
     "output_type": "stream",
     "text": [
      "1\n",
      "4\n",
      "4\n",
      "48\n",
      "65\n"
     ]
    }
   ],
   "source": [
    "T = int(input())\n",
    "\n",
    "exam = []\n",
    "for i in range(T):\n",
    "    a = int(input())\n",
    "    exam.append(a)\n",
    "    \n",
    "exam.sort()\n",
    "\n",
    "for i in range(T):\n",
    "    print(exam[i])"
   ]
  },
  {
   "cell_type": "code",
   "execution_count": 112,
   "metadata": {},
   "outputs": [
    {
     "ename": "ValueError",
     "evalue": "invalid literal for int() with base 10: ''",
     "output_type": "error",
     "traceback": [
      "\u001b[1;31m---------------------------------------------------------------------------\u001b[0m",
      "\u001b[1;31mValueError\u001b[0m                                Traceback (most recent call last)",
      "\u001b[1;32m~\\AppData\\Local\\Temp\\ipykernel_2688\\3511551024.py\u001b[0m in \u001b[0;36m<module>\u001b[1;34m\u001b[0m\n\u001b[0;32m      2\u001b[0m \u001b[0msum\u001b[0m\u001b[1;33m=\u001b[0m\u001b[1;36m0\u001b[0m\u001b[1;33m\u001b[0m\u001b[1;33m\u001b[0m\u001b[0m\n\u001b[0;32m      3\u001b[0m \u001b[1;32mfor\u001b[0m \u001b[0mi\u001b[0m \u001b[1;32min\u001b[0m \u001b[0mrange\u001b[0m\u001b[1;33m(\u001b[0m\u001b[1;36m5\u001b[0m\u001b[1;33m)\u001b[0m\u001b[1;33m:\u001b[0m\u001b[1;33m\u001b[0m\u001b[1;33m\u001b[0m\u001b[0m\n\u001b[1;32m----> 4\u001b[1;33m     \u001b[0ma\u001b[0m \u001b[1;33m=\u001b[0m \u001b[0mint\u001b[0m\u001b[1;33m(\u001b[0m\u001b[0minput\u001b[0m\u001b[1;33m(\u001b[0m\u001b[1;33m)\u001b[0m\u001b[1;33m)\u001b[0m\u001b[1;33m\u001b[0m\u001b[1;33m\u001b[0m\u001b[0m\n\u001b[0m\u001b[0;32m      5\u001b[0m     \u001b[0mexam\u001b[0m\u001b[1;33m.\u001b[0m\u001b[0mappend\u001b[0m\u001b[1;33m(\u001b[0m\u001b[0ma\u001b[0m\u001b[1;33m)\u001b[0m\u001b[1;33m\u001b[0m\u001b[1;33m\u001b[0m\u001b[0m\n\u001b[0;32m      6\u001b[0m     \u001b[0msum\u001b[0m \u001b[1;33m+=\u001b[0m \u001b[0ma\u001b[0m\u001b[1;33m\u001b[0m\u001b[1;33m\u001b[0m\u001b[0m\n",
      "\u001b[1;31mValueError\u001b[0m: invalid literal for int() with base 10: ''"
     ]
    }
   ],
   "source": [
    "exam = []\n",
    "sum=0\n",
    "for i in range(5):\n",
    "    a = int(input())\n",
    "    exam.append(a)\n",
    "    sum += a\n",
    "exam.sort()\n",
    "\n",
    "print(int(sum/5))\n",
    "print(exam[2])"
   ]
  },
  {
   "cell_type": "code",
   "execution_count": 4,
   "metadata": {},
   "outputs": [],
   "source": [
    "N,k = map(int, input().split())\n",
    "exam = []\n",
    "\n",
    "for i in range(N):\n",
    "    a = map(list, input().split())\n",
    "    exam.append(a)\n",
    "    \n",
    "a.sort()\n",
    "\n",
    "print(int(exam[k-1]))"
   ]
  },
  {
   "cell_type": "code",
   "execution_count": 10,
   "metadata": {},
   "outputs": [
    {
     "name": "stdout",
     "output_type": "stream",
     "text": [
      "93\n"
     ]
    }
   ],
   "source": [
    "N,k = map(int, input().split())\n",
    "exam = list(map(int input().split()))\n",
    " =[]\n",
    "exam.append(a)\n",
    "exam.append(b)\n",
    "exam.append(c)\n",
    "exam.append(d)\n",
    "exam.append(e)\n",
    "\n",
    "exam.sort()\n",
    "\n",
    "print(int(exam[2]))"
   ]
  },
  {
   "cell_type": "code",
   "execution_count": 15,
   "metadata": {},
   "outputs": [
    {
     "name": "stdout",
     "output_type": "stream",
     "text": [
      "98\n"
     ]
    }
   ],
   "source": [
    "N,k = map(int, input().split())\n",
    "exam = list(map(int, input().split()))\n",
    "\n",
    "exam.sort()\n",
    "\n",
    "print(int(exam[5-k]))"
   ]
  },
  {
   "cell_type": "code",
   "execution_count": 28,
   "metadata": {},
   "outputs": [
    {
     "name": "stdout",
     "output_type": "stream",
     "text": [
      "161\n"
     ]
    }
   ],
   "source": [
    "x, y, w, h = list(map(int, input().split()))\n",
    "\n",
    "exam = []\n",
    "exam.append(x)\n",
    "exam.append(y)\n",
    "exam.append(w-x)\n",
    "exam.append(h-y)\n",
    "\n",
    "exam.sort()\n",
    "print(exam[0])"
   ]
  },
  {
   "cell_type": "code",
   "execution_count": 30,
   "metadata": {},
   "outputs": [
    {
     "name": "stdout",
     "output_type": "stream",
     "text": [
      "1\n",
      "7\n",
      "6\n",
      "1\n",
      "9\n"
     ]
    }
   ],
   "source": [
    "T = int(input())\n",
    "exam = []\n",
    "\n",
    "for i in range(T):\n",
    "    a,b = map(int, input().split())\n",
    "    c = pow(a,b)\n",
    "    d = c%10\n",
    "    exam.append(d)\n",
    "    print(exam[i])"
   ]
  },
  {
   "cell_type": "code",
   "execution_count": 65,
   "metadata": {},
   "outputs": [
    {
     "name": "stdout",
     "output_type": "stream",
     "text": [
      "[1]\n",
      "[1, 3]\n",
      "[1, 3, 5]\n",
      "[1, 3, 5, 4]\n"
     ]
    },
    {
     "ename": "ValueError",
     "evalue": "list.remove(x): x not in list",
     "output_type": "error",
     "traceback": [
      "\u001b[1;31m---------------------------------------------------------------------------\u001b[0m",
      "\u001b[1;31mValueError\u001b[0m                                Traceback (most recent call last)",
      "\u001b[1;32m~\\AppData\\Local\\Temp\\ipykernel_8508\\1998929847.py\u001b[0m in \u001b[0;36m<module>\u001b[1;34m\u001b[0m\n\u001b[0;32m     11\u001b[0m     \u001b[1;32mif\u001b[0m \u001b[0mlist1\u001b[0m\u001b[1;33m[\u001b[0m\u001b[0mi\u001b[0m\u001b[1;33m]\u001b[0m \u001b[1;33m==\u001b[0m\u001b[1;36m0\u001b[0m\u001b[1;33m:\u001b[0m\u001b[1;33m\u001b[0m\u001b[1;33m\u001b[0m\u001b[0m\n\u001b[0;32m     12\u001b[0m         \u001b[0mb\u001b[0m \u001b[1;33m=\u001b[0m \u001b[0mlist1\u001b[0m\u001b[1;33m[\u001b[0m\u001b[0mi\u001b[0m\u001b[1;33m]\u001b[0m\u001b[1;33m\u001b[0m\u001b[1;33m\u001b[0m\u001b[0m\n\u001b[1;32m---> 13\u001b[1;33m         \u001b[0mlist2\u001b[0m\u001b[1;33m.\u001b[0m\u001b[0mremove\u001b[0m\u001b[1;33m(\u001b[0m\u001b[0mb\u001b[0m\u001b[1;33m)\u001b[0m\u001b[1;33m\u001b[0m\u001b[1;33m\u001b[0m\u001b[0m\n\u001b[0m\u001b[0;32m     14\u001b[0m     \u001b[1;32melse\u001b[0m\u001b[1;33m:\u001b[0m\u001b[1;33m\u001b[0m\u001b[1;33m\u001b[0m\u001b[0m\n\u001b[0;32m     15\u001b[0m         \u001b[0mlist2\u001b[0m\u001b[1;33m.\u001b[0m\u001b[0mappend\u001b[0m\u001b[1;33m(\u001b[0m\u001b[0mlist1\u001b[0m\u001b[1;33m[\u001b[0m\u001b[0mi\u001b[0m\u001b[1;33m]\u001b[0m\u001b[1;33m)\u001b[0m\u001b[1;33m\u001b[0m\u001b[1;33m\u001b[0m\u001b[0m\n",
      "\u001b[1;31mValueError\u001b[0m: list.remove(x): x not in list"
     ]
    }
   ],
   "source": [
    "t = int(input())\n",
    "list1 = []\n",
    "\n",
    "for i in range(0,t):\n",
    "    a = int(input())\n",
    "    list1.append(a)\n",
    "    \n",
    "list2 = []\n",
    "\n",
    "for i in range(0,t):\n",
    "    if list1[i] ==0:\n",
    "        b = list1[i]\n",
    "        list2.remove(b)\n",
    "    else:\n",
    "        list2.append(list1[i])\n",
    "    print(list2)\n",
    "        \n"
   ]
  },
  {
   "cell_type": "code",
   "execution_count": 82,
   "metadata": {},
   "outputs": [
    {
     "name": "stdout",
     "output_type": "stream",
     "text": [
      "0\n"
     ]
    }
   ],
   "source": [
    "t = int(input())\n",
    "list1 = []\n",
    "sum = 0\n",
    "for i in range(0,t):\n",
    "    a = int(input())\n",
    "    list1.append(a)\n",
    "list2 = []\n",
    "for i in range(t):\n",
    "    \n",
    "    if list1[i] != 0:\n",
    "        list2.append(list1[i])\n",
    "    else:\n",
    "        b = len(list2)-1\n",
    "        list2.remove(list2[b])\n",
    "    \n",
    "x = len(list2)\n",
    "if x != 0:    \n",
    "    for i in range(x):\n",
    "      sum += list2[i]\n",
    "    print(sum)\n",
    "else:\n",
    "    print(0) \n",
    "    "
   ]
  },
  {
   "cell_type": "code",
   "execution_count": 100,
   "metadata": {},
   "outputs": [
    {
     "name": "stdout",
     "output_type": "stream",
     "text": [
      "1\n",
      "5\n",
      "67863915\n"
     ]
    }
   ],
   "source": [
    "t = int(input())\n",
    "for i in range(t):\n",
    "    n,m = map(int, input().split())\n",
    "    cross = 1\n",
    "    if n != m:\n",
    "        for j in range(1,m+1):\n",
    "            cross = cross*j\n",
    "        for k in range(1,n+1):\n",
    "            cross = cross/k\n",
    "        for h in range(1,m-n+1):\n",
    "            cross = cross/h\n",
    "        print(round(cross))\n",
    "    else:\n",
    "        print(1)"
   ]
  },
  {
   "cell_type": "code",
   "execution_count": 99,
   "metadata": {},
   "outputs": [
    {
     "name": "stdout",
     "output_type": "stream",
     "text": [
      "1\n"
     ]
    }
   ],
   "source": [
    "for i in range(1,2):\n",
    "    print(i)"
   ]
  },
  {
   "cell_type": "code",
   "execution_count": 108,
   "metadata": {},
   "outputs": [
    {
     "name": "stdout",
     "output_type": "stream",
     "text": [
      "6\n"
     ]
    }
   ],
   "source": [
    "a = input().split()\n",
    "print(len(a))"
   ]
  },
  {
   "cell_type": "code",
   "execution_count": 117,
   "metadata": {},
   "outputs": [
    {
     "name": "stdout",
     "output_type": "stream",
     "text": [
      "46\n"
     ]
    }
   ],
   "source": [
    "T = int(input())\n",
    "a = input()\n",
    "sum = 0\n",
    "for i in range(T):\n",
    "    sum += int(a[i])\n",
    "    \n",
    "print(sum)"
   ]
  },
  {
   "cell_type": "code",
   "execution_count": 119,
   "metadata": {},
   "outputs": [
    {
     "name": "stdout",
     "output_type": "stream",
     "text": [
      "18446744073709551615\n"
     ]
    }
   ],
   "source": [
    "a,b = map(int, input().split())\n",
    "\n",
    "print(a+b)"
   ]
  },
  {
   "cell_type": "code",
   "execution_count": 120,
   "metadata": {},
   "outputs": [
    {
     "ename": "ValueError",
     "evalue": "invalid literal for int() with base 10: ''",
     "output_type": "error",
     "traceback": [
      "\u001b[1;31m---------------------------------------------------------------------------\u001b[0m",
      "\u001b[1;31mValueError\u001b[0m                                Traceback (most recent call last)",
      "\u001b[1;32m~\\AppData\\Local\\Temp\\ipykernel_8508\\3565697551.py\u001b[0m in \u001b[0;36m<module>\u001b[1;34m\u001b[0m\n\u001b[0;32m      1\u001b[0m \u001b[1;32mwhile\u001b[0m \u001b[1;32mTrue\u001b[0m\u001b[1;33m:\u001b[0m\u001b[1;33m\u001b[0m\u001b[1;33m\u001b[0m\u001b[0m\n\u001b[1;32m----> 2\u001b[1;33m     \u001b[0ma\u001b[0m \u001b[1;33m=\u001b[0m \u001b[0mint\u001b[0m\u001b[1;33m(\u001b[0m\u001b[0minput\u001b[0m\u001b[1;33m(\u001b[0m\u001b[1;33m)\u001b[0m\u001b[1;33m)\u001b[0m\u001b[1;33m\u001b[0m\u001b[1;33m\u001b[0m\u001b[0m\n\u001b[0m\u001b[0;32m      3\u001b[0m     \u001b[1;32mif\u001b[0m \u001b[0ma\u001b[0m\u001b[1;33m!=\u001b[0m \u001b[1;36m0\u001b[0m \u001b[1;33m:\u001b[0m\u001b[1;33m\u001b[0m\u001b[1;33m\u001b[0m\u001b[0m\n\u001b[0;32m      4\u001b[0m         \u001b[0mprint\u001b[0m\u001b[1;33m(\u001b[0m\u001b[0ma\u001b[0m\u001b[1;33m)\u001b[0m\u001b[1;33m\u001b[0m\u001b[1;33m\u001b[0m\u001b[0m\n\u001b[0;32m      5\u001b[0m         \u001b[0ma\u001b[0m \u001b[1;33m+=\u001b[0m \u001b[1;36m1\u001b[0m\u001b[1;33m\u001b[0m\u001b[1;33m\u001b[0m\u001b[0m\n",
      "\u001b[1;31mValueError\u001b[0m: invalid literal for int() with base 10: ''"
     ]
    }
   ],
   "source": [
    "while True:\n",
    "    a = int(input())\n",
    "    if a!= 0 :\n",
    "        print(a)\n",
    "        a += 1\n",
    "    else:\n",
    "        break\n"
   ]
  },
  {
   "cell_type": "code",
   "execution_count": null,
   "metadata": {},
   "outputs": [],
   "source": []
  },
  {
   "cell_type": "code",
   "execution_count": 124,
   "metadata": {},
   "outputs": [
    {
     "name": "stdout",
     "output_type": "stream",
     "text": [
      "[23, 25, 27, 29, 31, 33, 35, 37, 39, 41, 43, 45]\n"
     ]
    }
   ],
   "source": [
    "a = int(input())     \n",
    "b = int(a) \n",
    "\n",
    "list2 =[]\n",
    "for i in range(1,2*b+1):\n",
    "        list2.append(i)\n",
    "exam = list2\n",
    "list3 = []\n",
    "for i in range(b-1,2*b):    \n",
    "    for j in range(2,b):\n",
    "        if exam[i]%j ==0:\n",
    "            c = exam[i]\n",
    "            break\n",
    "        elif exam[i]%j != 0 :\n",
    "            list3.append(exam[i])\n",
    "\n",
    "list4 = []\n",
    "for value in list3:\n",
    "    if value not in list4:\n",
    "        list4.append(value)\n",
    "        \n",
    "print(list4)"
   ]
  },
  {
   "cell_type": "code",
   "execution_count": 136,
   "metadata": {},
   "outputs": [
    {
     "name": "stdout",
     "output_type": "stream",
     "text": [
      "887\n"
     ]
    }
   ],
   "source": [
    "m = int(input())\n",
    "n = m*2\n",
    "number = []\n",
    "\n",
    "for i in range(2,n+1):\n",
    "    number.append(i)\n",
    "\n",
    "for i in range(2,n+1):\n",
    "    \n",
    "    for j in range(2,n):\n",
    "        if i !=j:\n",
    "            if i%j == 0:\n",
    "                number.remove(i)\n",
    "                break\n",
    "\n",
    "exam = []\n",
    "sum = 0\n",
    "for i in range(len(number)):\n",
    "    \n",
    "    if number[i] > m and number[i] <= n:\n",
    "        exam.append(number[i])\n",
    "        sum += number[i]\n",
    "\n",
    "print(len(exam))"
   ]
  },
  {
   "cell_type": "code",
   "execution_count": 6,
   "metadata": {},
   "outputs": [
    {
     "name": "stdout",
     "output_type": "stream",
     "text": [
      "1\n",
      "2\n"
     ]
    }
   ],
   "source": [
    "while True:\n",
    "    m = int(input())\n",
    "    if m == 0:\n",
    "        break\n",
    "    n = m*2\n",
    "    number = []\n",
    "\n",
    "    for i in range(2,n+1):\n",
    "        number.append(i)\n",
    "\n",
    "    for i in range(2,n+1):\n",
    "        \n",
    "        for j in range(2,n):\n",
    "            if i !=j:\n",
    "                if i%j == 0:\n",
    "                    number.remove(i)\n",
    "                    break\n",
    "\n",
    "    exam = []\n",
    "    sum = 0\n",
    "    for i in range(len(number)):\n",
    "        \n",
    "        if number[i] > m and number[i] <= n:\n",
    "            exam.append(number[i])\n",
    "            sum += number[i]\n",
    "\n",
    "    print(len(exam))"
   ]
  },
  {
   "cell_type": "code",
   "execution_count": 14,
   "metadata": {},
   "outputs": [
    {
     "name": "stdout",
     "output_type": "stream",
     "text": [
      "3/1\n"
     ]
    }
   ],
   "source": [
    "x = int(input())\n",
    "\n",
    "i = 1\n",
    "sum = 0\n",
    "k = []\n",
    "while True:\n",
    "    \n",
    "    sum += i\n",
    "    k.append(sum) \n",
    "    \n",
    "    i += 1\n",
    "    \n",
    "    if sum >= x:\n",
    "        a = str(sum - x+1)+\"/\"+str(i-sum +x-1)\n",
    "        if i%2 == 0:\n",
    "            a = str(sum - x+1)+\"/\"+str(i-sum +x-1)\n",
    "        else:\n",
    "            a = str(i-sum +x-1) +\"/\"+ str(sum - x+1)\n",
    "        print(a)\n",
    "        break    "
   ]
  },
  {
   "cell_type": "code",
   "execution_count": 17,
   "metadata": {},
   "outputs": [
    {
     "ename": "KeyboardInterrupt",
     "evalue": "Interrupted by user",
     "output_type": "error",
     "traceback": [
      "\u001b[1;31m---------------------------------------------------------------------------\u001b[0m",
      "\u001b[1;31mKeyboardInterrupt\u001b[0m                         Traceback (most recent call last)",
      "\u001b[1;32m~\\AppData\\Local\\Temp\\ipykernel_21660\\3991907783.py\u001b[0m in \u001b[0;36m<module>\u001b[1;34m\u001b[0m\n\u001b[1;32m----> 1\u001b[1;33m \u001b[0mN\u001b[0m\u001b[1;33m,\u001b[0m \u001b[0mm\u001b[0m\u001b[1;33m,\u001b[0m \u001b[0mM\u001b[0m\u001b[1;33m,\u001b[0m \u001b[0mT\u001b[0m\u001b[1;33m,\u001b[0m \u001b[0mR\u001b[0m \u001b[1;33m=\u001b[0m \u001b[0mmap\u001b[0m\u001b[1;33m(\u001b[0m\u001b[0mint\u001b[0m\u001b[1;33m,\u001b[0m \u001b[0minput\u001b[0m\u001b[1;33m(\u001b[0m\u001b[1;33m)\u001b[0m\u001b[1;33m.\u001b[0m\u001b[0msplit\u001b[0m\u001b[1;33m(\u001b[0m\u001b[1;33m)\u001b[0m\u001b[1;33m)\u001b[0m\u001b[1;33m\u001b[0m\u001b[1;33m\u001b[0m\u001b[0m\n\u001b[0m\u001b[0;32m      2\u001b[0m \u001b[0mi\u001b[0m \u001b[1;33m=\u001b[0m \u001b[1;36m0\u001b[0m\u001b[1;33m\u001b[0m\u001b[1;33m\u001b[0m\u001b[0m\n\u001b[0;32m      3\u001b[0m \u001b[0mj\u001b[0m \u001b[1;33m=\u001b[0m \u001b[1;36m0\u001b[0m\u001b[1;33m\u001b[0m\u001b[1;33m\u001b[0m\u001b[0m\n\u001b[0;32m      4\u001b[0m \u001b[0ma\u001b[0m \u001b[1;33m=\u001b[0m \u001b[0mm\u001b[0m\u001b[1;33m\u001b[0m\u001b[1;33m\u001b[0m\u001b[0m\n\u001b[0;32m      5\u001b[0m \u001b[1;32mwhile\u001b[0m \u001b[1;32mTrue\u001b[0m\u001b[1;33m:\u001b[0m\u001b[1;33m\u001b[0m\u001b[1;33m\u001b[0m\u001b[0m\n",
      "\u001b[1;32mc:\\Users\\user\\anaconda3\\lib\\site-packages\\ipykernel\\kernelbase.py\u001b[0m in \u001b[0;36mraw_input\u001b[1;34m(self, prompt)\u001b[0m\n\u001b[0;32m   1173\u001b[0m                 \u001b[1;34m\"raw_input was called, but this frontend does not support input requests.\"\u001b[0m\u001b[1;33m\u001b[0m\u001b[1;33m\u001b[0m\u001b[0m\n\u001b[0;32m   1174\u001b[0m             )\n\u001b[1;32m-> 1175\u001b[1;33m         return self._input_request(\n\u001b[0m\u001b[0;32m   1176\u001b[0m             \u001b[0mstr\u001b[0m\u001b[1;33m(\u001b[0m\u001b[0mprompt\u001b[0m\u001b[1;33m)\u001b[0m\u001b[1;33m,\u001b[0m\u001b[1;33m\u001b[0m\u001b[1;33m\u001b[0m\u001b[0m\n\u001b[0;32m   1177\u001b[0m             \u001b[0mself\u001b[0m\u001b[1;33m.\u001b[0m\u001b[0m_parent_ident\u001b[0m\u001b[1;33m[\u001b[0m\u001b[1;34m\"shell\"\u001b[0m\u001b[1;33m]\u001b[0m\u001b[1;33m,\u001b[0m\u001b[1;33m\u001b[0m\u001b[1;33m\u001b[0m\u001b[0m\n",
      "\u001b[1;32mc:\\Users\\user\\anaconda3\\lib\\site-packages\\ipykernel\\kernelbase.py\u001b[0m in \u001b[0;36m_input_request\u001b[1;34m(self, prompt, ident, parent, password)\u001b[0m\n\u001b[0;32m   1215\u001b[0m             \u001b[1;32mexcept\u001b[0m \u001b[0mKeyboardInterrupt\u001b[0m\u001b[1;33m:\u001b[0m\u001b[1;33m\u001b[0m\u001b[1;33m\u001b[0m\u001b[0m\n\u001b[0;32m   1216\u001b[0m                 \u001b[1;31m# re-raise KeyboardInterrupt, to truncate traceback\u001b[0m\u001b[1;33m\u001b[0m\u001b[1;33m\u001b[0m\u001b[0m\n\u001b[1;32m-> 1217\u001b[1;33m                 \u001b[1;32mraise\u001b[0m \u001b[0mKeyboardInterrupt\u001b[0m\u001b[1;33m(\u001b[0m\u001b[1;34m\"Interrupted by user\"\u001b[0m\u001b[1;33m)\u001b[0m \u001b[1;32mfrom\u001b[0m \u001b[1;32mNone\u001b[0m\u001b[1;33m\u001b[0m\u001b[1;33m\u001b[0m\u001b[0m\n\u001b[0m\u001b[0;32m   1218\u001b[0m             \u001b[1;32mexcept\u001b[0m \u001b[0mException\u001b[0m\u001b[1;33m:\u001b[0m\u001b[1;33m\u001b[0m\u001b[1;33m\u001b[0m\u001b[0m\n\u001b[0;32m   1219\u001b[0m                 \u001b[0mself\u001b[0m\u001b[1;33m.\u001b[0m\u001b[0mlog\u001b[0m\u001b[1;33m.\u001b[0m\u001b[0mwarning\u001b[0m\u001b[1;33m(\u001b[0m\u001b[1;34m\"Invalid Message:\"\u001b[0m\u001b[1;33m,\u001b[0m \u001b[0mexc_info\u001b[0m\u001b[1;33m=\u001b[0m\u001b[1;32mTrue\u001b[0m\u001b[1;33m)\u001b[0m\u001b[1;33m\u001b[0m\u001b[1;33m\u001b[0m\u001b[0m\n",
      "\u001b[1;31mKeyboardInterrupt\u001b[0m: Interrupted by user"
     ]
    }
   ],
   "source": [
    "N, m, M, T, R = map(int, input().split())\n",
    "i = 0\n",
    "j = 0\n",
    "a = m \n",
    "while True:\n",
    "    if M > a + T > m:\n",
    "        a += T\n",
    "        i += 1\n",
    "        print(a,111)\n",
    "    elif a +  T >= M:\n",
    "        a -= R\n",
    "        j += 1\n",
    "        print(a,222)\n",
    "    \n",
    "    if i == N:\n",
    "        print(i+j)\n",
    "        break"
   ]
  },
  {
   "cell_type": "code",
   "execution_count": 28,
   "metadata": {},
   "outputs": [
    {
     "name": "stdout",
     "output_type": "stream",
     "text": [
      "-1\n",
      "50\n",
      "120\n",
      "0\n",
      "-1\n"
     ]
    }
   ],
   "source": [
    "N, m, M, T, R = map(int, input().split())\n",
    "i = 0\n",
    "j = 0\n",
    "a = m \n",
    "if b < T:\n",
    "        print(-1)\n",
    "\n",
    "while True:\n",
    "    b = M - a\n",
    "    print(b)\n",
    "    if b < T:\n",
    "        print(-1)\n",
    "        break\n",
    "\n",
    "    if b > T :\n",
    "        a += int(b/T)*T\n",
    "        print(a)\n",
    "    elif N == i:\n",
    "        break    \n"
   ]
  },
  {
   "cell_type": "code",
   "execution_count": 11,
   "metadata": {},
   "outputs": [
    {
     "name": "stdout",
     "output_type": "stream",
     "text": [
      "1\n"
     ]
    }
   ],
   "source": [
    "k = 0\n",
    "\n",
    "for i in range(8):\n",
    "    a = str(input())\n",
    "    b = i%2\n",
    "    for j in range(b,8,2):\n",
    "        if a[j] == \"F\":\n",
    "            k +=1\n",
    "\n",
    "print(k)"
   ]
  },
  {
   "cell_type": "code",
   "execution_count": 21,
   "metadata": {},
   "outputs": [
    {
     "ename": "ValueError",
     "evalue": "invalid literal for int() with base 10: '3 7'",
     "output_type": "error",
     "traceback": [
      "\u001b[1;31m---------------------------------------------------------------------------\u001b[0m",
      "\u001b[1;31mValueError\u001b[0m                                Traceback (most recent call last)",
      "\u001b[1;32m~\\AppData\\Local\\Temp\\ipykernel_33816\\1223225717.py\u001b[0m in \u001b[0;36m<module>\u001b[1;34m\u001b[0m\n\u001b[0;32m      3\u001b[0m \u001b[0mnumber\u001b[0m \u001b[1;33m=\u001b[0m \u001b[1;33m[\u001b[0m\u001b[1;36m0\u001b[0m\u001b[1;33m,\u001b[0m\u001b[1;36m0\u001b[0m\u001b[1;33m,\u001b[0m\u001b[1;36m0\u001b[0m\u001b[1;33m,\u001b[0m\u001b[1;36m0\u001b[0m\u001b[1;33m,\u001b[0m\u001b[1;36m0\u001b[0m\u001b[1;33m,\u001b[0m\u001b[1;36m0\u001b[0m\u001b[1;33m,\u001b[0m\u001b[1;36m0\u001b[0m\u001b[1;33m,\u001b[0m\u001b[1;36m0\u001b[0m\u001b[1;33m]\u001b[0m\u001b[1;33m\u001b[0m\u001b[1;33m\u001b[0m\u001b[0m\n\u001b[0;32m      4\u001b[0m \u001b[1;33m\u001b[0m\u001b[0m\n\u001b[1;32m----> 5\u001b[1;33m \u001b[0mk\u001b[0m \u001b[1;33m=\u001b[0m \u001b[0mint\u001b[0m\u001b[1;33m(\u001b[0m\u001b[0minput\u001b[0m\u001b[1;33m(\u001b[0m\u001b[1;33m)\u001b[0m\u001b[1;33m)\u001b[0m\u001b[1;33m\u001b[0m\u001b[1;33m\u001b[0m\u001b[0m\n\u001b[0m\u001b[0;32m      6\u001b[0m \u001b[1;32mfor\u001b[0m \u001b[0mi\u001b[0m \u001b[1;32min\u001b[0m \u001b[0mrange\u001b[0m\u001b[1;33m(\u001b[0m\u001b[0mk\u001b[0m\u001b[1;33m)\u001b[0m\u001b[1;33m:\u001b[0m\u001b[1;33m\u001b[0m\u001b[1;33m\u001b[0m\u001b[0m\n\u001b[0;32m      7\u001b[0m     \u001b[0mnumber\u001b[0m \u001b[1;33m=\u001b[0m \u001b[1;33m[\u001b[0m\u001b[1;36m0\u001b[0m\u001b[1;33m,\u001b[0m\u001b[1;36m0\u001b[0m\u001b[1;33m,\u001b[0m\u001b[1;36m0\u001b[0m\u001b[1;33m,\u001b[0m\u001b[1;36m0\u001b[0m\u001b[1;33m,\u001b[0m\u001b[1;36m0\u001b[0m\u001b[1;33m,\u001b[0m\u001b[1;36m0\u001b[0m\u001b[1;33m,\u001b[0m\u001b[1;36m0\u001b[0m\u001b[1;33m,\u001b[0m\u001b[1;36m0\u001b[0m\u001b[1;33m]\u001b[0m\u001b[1;33m\u001b[0m\u001b[1;33m\u001b[0m\u001b[0m\n",
      "\u001b[1;31mValueError\u001b[0m: invalid literal for int() with base 10: '3 7'"
     ]
    }
   ],
   "source": [
    "exam = [\"TTT\",\"TTH\",\"THT\",\"THH\",\"HTT\",\"HTH\",\"HHT\",\"HHH\"]\n",
    "\n",
    "number = [0,0,0,0,0,0,0,0]\n",
    "\n",
    "k = int(input())\n",
    "for i in range(k):\n",
    "    number = [0,0,0,0,0,0,0,0]\n",
    "    a = str(input())\n",
    "    \n",
    "    for j in range(38):\n",
    "        \n",
    "        b = str(a[j]) +str(a[j+1])+str(a[j+2])\n",
    "        for e in range(8):\n",
    "            if exam[e] == b:\n",
    "                number[e] +=1\n",
    "\n",
    "    print(*number)"
   ]
  },
  {
   "cell_type": "code",
   "execution_count": 45,
   "metadata": {},
   "outputs": [
    {
     "name": "stdout",
     "output_type": "stream",
     "text": [
      "5\n"
     ]
    }
   ],
   "source": [
    "A,B = map(int, input().split())\n",
    "\n",
    "list = []\n",
    "k = 0\n",
    "for i in range(1, B):\n",
    "    k = i\n",
    "    for j in range(i):\n",
    "        list.append(k)\n",
    "    \n",
    "if B != 1:        \n",
    "    sum = 0\n",
    "    for i in range(A-1,B):\n",
    "        sum += list[i]\n",
    "\n",
    "    print(sum)\n",
    "else:\n",
    "    print(1)"
   ]
  },
  {
   "cell_type": "code",
   "execution_count": 60,
   "metadata": {},
   "outputs": [
    {
     "name": "stdout",
     "output_type": "stream",
     "text": [
      "7356\n",
      "7 0 0\n",
      "3 7 07\n",
      "5 4 074\n",
      "6 4 0744\n"
     ]
    }
   ],
   "source": [
    "A = str(input())\n",
    "print(A)\n",
    "c = str()\n",
    "\n",
    "for i in range(len(A)):\n",
    "    a = int(str(A)[i])\n",
    "\n",
    "    \n",
    "    if a >= 7 or a < 4:\n",
    "        if i == 0:\n",
    "            b = 0\n",
    "        else:    \n",
    "            b = 7\n",
    "    else:\n",
    "        if i == 0:\n",
    "            b = 4\n",
    "        else:    \n",
    "            b = 4\n",
    "        \n",
    "        \n",
    "    c += str(b)\n",
    "    print(a,b,c)\n",
    "    \n",
    "    "
   ]
  },
  {
   "cell_type": "code",
   "execution_count": 63,
   "metadata": {},
   "outputs": [
    {
     "name": "stdout",
     "output_type": "stream",
     "text": [
      "6666\n",
      "6 4 4\n",
      "6 4 44\n",
      "6 4 444\n",
      "6 4 4444\n"
     ]
    }
   ],
   "source": [
    "A = str(input())\n",
    "print(A)\n",
    "c = str()\n",
    "\n",
    "for i in range(len(A)):\n",
    "    a = int(str(A)[i])\n",
    "\n",
    "    \n",
    "    if i == 0:\n",
    "        if a >= 7:\n",
    "            b = 7\n",
    "        elif  4 <= a < 7:\n",
    "            b = 4\n",
    "        else:\n",
    "            b = 0\n",
    "    else:\n",
    "        if a >= 7 or a < 4:\n",
    "            b = 7\n",
    "        else:\n",
    "            b = 4\n",
    "        \n",
    "    c += str(b)\n",
    "    print(a,b,c)            "
   ]
  },
  {
   "cell_type": "code",
   "execution_count": 79,
   "metadata": {},
   "outputs": [
    {
     "name": "stdout",
     "output_type": "stream",
     "text": [
      "123 7\n"
     ]
    }
   ],
   "source": [
    "A = str(input())\n",
    "\n",
    "c = str()\n",
    "\n",
    "for i in range(len(A)):\n",
    "    a = int(str(A)[i])\n",
    "    \n",
    "    if a > 7:\n",
    "        c +=  str(7)*(len(A)-i)\n",
    "        break\n",
    "    elif 4 <= a < 7:\n",
    "        c +=\"4\" + str(7)*(len(A)-i-1)\n",
    "    else:\n",
    "        c += str(7)*(len(A)-i-2)\n",
    "        \n",
    "print(A,c)"
   ]
  },
  {
   "cell_type": "code",
   "execution_count": 90,
   "metadata": {},
   "outputs": [
    {
     "ename": "TypeError",
     "evalue": "'list' object is not callable",
     "output_type": "error",
     "traceback": [
      "\u001b[1;31m---------------------------------------------------------------------------\u001b[0m",
      "\u001b[1;31mTypeError\u001b[0m                                 Traceback (most recent call last)",
      "\u001b[1;32m~\\AppData\\Local\\Temp\\ipykernel_33816\\746180125.py\u001b[0m in \u001b[0;36m<module>\u001b[1;34m\u001b[0m\n\u001b[0;32m      1\u001b[0m \u001b[0mT\u001b[0m \u001b[1;33m=\u001b[0m \u001b[0mint\u001b[0m\u001b[1;33m(\u001b[0m\u001b[0minput\u001b[0m\u001b[1;33m(\u001b[0m\u001b[1;33m)\u001b[0m\u001b[1;33m)\u001b[0m\u001b[1;33m\u001b[0m\u001b[1;33m\u001b[0m\u001b[0m\n\u001b[1;32m----> 2\u001b[1;33m \u001b[0mA\u001b[0m \u001b[1;33m=\u001b[0m \u001b[0mlist\u001b[0m\u001b[1;33m(\u001b[0m\u001b[0mmap\u001b[0m\u001b[1;33m(\u001b[0m\u001b[0mint\u001b[0m\u001b[1;33m,\u001b[0m \u001b[0minput\u001b[0m\u001b[1;33m(\u001b[0m\u001b[1;33m)\u001b[0m\u001b[1;33m.\u001b[0m\u001b[0msplit\u001b[0m\u001b[1;33m(\u001b[0m\u001b[1;33m)\u001b[0m\u001b[1;33m)\u001b[0m\u001b[1;33m)\u001b[0m\u001b[1;33m\u001b[0m\u001b[1;33m\u001b[0m\u001b[0m\n\u001b[0m\u001b[0;32m      3\u001b[0m \u001b[0mB\u001b[0m \u001b[1;33m=\u001b[0m \u001b[0mlist\u001b[0m\u001b[1;33m(\u001b[0m\u001b[0mmap\u001b[0m\u001b[1;33m(\u001b[0m\u001b[0mint\u001b[0m\u001b[1;33m,\u001b[0m \u001b[0minput\u001b[0m\u001b[1;33m(\u001b[0m\u001b[1;33m)\u001b[0m\u001b[1;33m.\u001b[0m\u001b[0msplit\u001b[0m\u001b[1;33m(\u001b[0m\u001b[1;33m)\u001b[0m\u001b[1;33m)\u001b[0m\u001b[1;33m)\u001b[0m\u001b[1;33m\u001b[0m\u001b[1;33m\u001b[0m\u001b[0m\n\u001b[0;32m      4\u001b[0m \u001b[1;33m\u001b[0m\u001b[0m\n\u001b[0;32m      5\u001b[0m \u001b[0mA\u001b[0m\u001b[1;33m.\u001b[0m\u001b[0msort\u001b[0m\u001b[1;33m(\u001b[0m\u001b[1;33m)\u001b[0m\u001b[1;33m\u001b[0m\u001b[1;33m\u001b[0m\u001b[0m\n",
      "\u001b[1;31mTypeError\u001b[0m: 'list' object is not callable"
     ]
    }
   ],
   "source": [
    "T = int(input())\n",
    "A = list(map(int, input().split()))\n",
    "B = list(map(int, input().split()))\n",
    "\n",
    "A.sort()\n",
    "B.sort()"
   ]
  },
  {
   "cell_type": "code",
   "execution_count": 89,
   "metadata": {},
   "outputs": [
    {
     "ename": "IndexError",
     "evalue": "list index out of range",
     "output_type": "error",
     "traceback": [
      "\u001b[1;31m---------------------------------------------------------------------------\u001b[0m",
      "\u001b[1;31mIndexError\u001b[0m                                Traceback (most recent call last)",
      "\u001b[1;32m~\\AppData\\Local\\Temp\\ipykernel_33816\\2665442193.py\u001b[0m in \u001b[0;36m<module>\u001b[1;34m\u001b[0m\n\u001b[1;32m----> 1\u001b[1;33m \u001b[0mA\u001b[0m\u001b[1;33m[\u001b[0m\u001b[1;36m1\u001b[0m\u001b[1;33m]\u001b[0m\u001b[1;33m\u001b[0m\u001b[1;33m\u001b[0m\u001b[0m\n\u001b[0m",
      "\u001b[1;31mIndexError\u001b[0m: list index out of range"
     ]
    }
   ],
   "source": [
    "A[1]"
   ]
  },
  {
   "cell_type": "code",
   "execution_count": null,
   "metadata": {},
   "outputs": [],
   "source": []
  },
  {
   "cell_type": "code",
   "execution_count": null,
   "metadata": {},
   "outputs": [],
   "source": []
  },
  {
   "cell_type": "code",
   "execution_count": null,
   "metadata": {},
   "outputs": [],
   "source": []
  },
  {
   "cell_type": "code",
   "execution_count": null,
   "metadata": {},
   "outputs": [],
   "source": []
  },
  {
   "cell_type": "code",
   "execution_count": null,
   "metadata": {},
   "outputs": [],
   "source": []
  }
 ],
 "metadata": {
  "kernelspec": {
   "display_name": "base",
   "language": "python",
   "name": "python3"
  },
  "language_info": {
   "codemirror_mode": {
    "name": "ipython",
    "version": 3
   },
   "file_extension": ".py",
   "mimetype": "text/x-python",
   "name": "python",
   "nbconvert_exporter": "python",
   "pygments_lexer": "ipython3",
   "version": "3.9.15"
  },
  "orig_nbformat": 4,
  "vscode": {
   "interpreter": {
    "hash": "a077222d77dfe082b8f1dd562ad70e458ac2ab76993a0b248ab0476e32e9e8dd"
   }
  }
 },
 "nbformat": 4,
 "nbformat_minor": 2
}
